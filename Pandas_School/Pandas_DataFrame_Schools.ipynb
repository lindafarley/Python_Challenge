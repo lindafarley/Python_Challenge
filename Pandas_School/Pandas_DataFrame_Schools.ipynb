{
 "cells": [
  {
   "cell_type": "code",
   "execution_count": 127,
   "metadata": {
    "collapsed": true
   },
   "outputs": [],
   "source": [
    "import pandas as pd \n",
    "import numpy as np"
   ]
  },
  {
   "cell_type": "code",
   "execution_count": 128,
   "metadata": {},
   "outputs": [],
   "source": [
    "#Read csv\n",
    "# Create a path for the CSV file desired\n",
    "csv_students = \"./raw_data/students_complete.csv\"\n",
    "\n",
    "# Read the CSV into a Pandas DataFrame\n",
    "students_df = pd.read_csv(csv_students)"
   ]
  },
  {
   "cell_type": "code",
   "execution_count": 129,
   "metadata": {},
   "outputs": [],
   "source": [
    "#Read csv\n",
    "# Create a reference the CSV file desired\n",
    "csv_schools = \"./raw_data/schools_complete.csv\"\n",
    "\n",
    "# Read the CSV into a Pandas DataFrame\n",
    "schools_df = pd.read_csv(csv_schools)"
   ]
  },
  {
   "cell_type": "code",
   "execution_count": 134,
   "metadata": {},
   "outputs": [],
   "source": [
    "#Rename columns in data frames to be more descriptive\n",
    "schools_df_renamed = schools_df.rename(columns ={\"name\": \"School Name\",\n",
    "                                                 \"type\": \"School Type\",\n",
    "                                                 \"size\": \"School Size\",\n",
    "                                                 \"budget\": \"School Budget\"})\n",
    "students_df_renamed = students_df.rename(columns={\"name\": \"Student Name\",\n",
    "                                                  \"gender\":\"Student Gender\",\n",
    "                                                  \"grade\": \"Student Grade\",\n",
    "                                                  \"school\": \"School Name\",\n",
    "                                                  \"reading_score\": \"Student Reading Score\",\n",
    "                                                  \"math_score\": \"Student Math Score\"})\n"
   ]
  },
  {
   "cell_type": "code",
   "execution_count": 169,
   "metadata": {},
   "outputs": [],
   "source": [
    "# Find number of schools\n",
    "unique_schools = len(schools_df_renamed[\"School Name\"])\n",
    "#Find number of students\n",
    "num_students = len(students_df_renamed[\"Student Name\"])\n",
    "#Find total schools' budget\n",
    "total_budget = schools_df_renamed[\"School Budget\"].sum()\n",
    "#Find average math score\n",
    "avg_math = students_df_renamed[\"Student Math Score\"].mean()\n",
    "#Find average reading score\n",
    "avg_read = students_df_renamed[\"Student Reading Score\"].mean()   \n",
    "#Find percent passed math\n",
    "student_math = students_df_renamed[students_df_renamed[\"Student Math Score\"] >= 70]\n",
    "stu_passed_math = (len(student_math) / len(students_df_renamed)) * 100\n",
    "#Find percent passed reading\n",
    "student_reading = students_df_renamed[students_df_renamed[\"Student Reading Score\"] >= 70]\n",
    "stu_passed_reading = (len(student_reading) / len(students_df_renamed)) * 100   \n",
    "#Find percent passed overall\n",
    "overall_pass = (stu_passed_reading + stu_passed_math) / 2"
   ]
  },
  {
   "cell_type": "code",
   "execution_count": 170,
   "metadata": {},
   "outputs": [
    {
     "data": {
      "text/html": [
       "<div>\n",
       "<style>\n",
       "    .dataframe thead tr:only-child th {\n",
       "        text-align: right;\n",
       "    }\n",
       "\n",
       "    .dataframe thead th {\n",
       "        text-align: left;\n",
       "    }\n",
       "\n",
       "    .dataframe tbody tr th {\n",
       "        vertical-align: top;\n",
       "    }\n",
       "</style>\n",
       "<table border=\"1\" class=\"dataframe\">\n",
       "  <thead>\n",
       "    <tr style=\"text-align: right;\">\n",
       "      <th></th>\n",
       "      <th>Total Schools</th>\n",
       "      <th>Total Students</th>\n",
       "      <th>Total Budget</th>\n",
       "      <th>Average Math Score</th>\n",
       "      <th>Average Reading Score</th>\n",
       "      <th>% Passing Math</th>\n",
       "      <th>% Passing Reading</th>\n",
       "      <th>% Overall Passing Rate</th>\n",
       "    </tr>\n",
       "  </thead>\n",
       "  <tbody>\n",
       "    <tr>\n",
       "      <th>0</th>\n",
       "      <td>15</td>\n",
       "      <td>39170</td>\n",
       "      <td>24649428</td>\n",
       "      <td>78.985371</td>\n",
       "      <td>81.87784</td>\n",
       "      <td>74.980853</td>\n",
       "      <td>85.805463</td>\n",
       "      <td>80.393158</td>\n",
       "    </tr>\n",
       "  </tbody>\n",
       "</table>\n",
       "</div>"
      ],
      "text/plain": [
       "   Total Schools  Total Students  Total Budget  Average Math Score  \\\n",
       "0             15           39170      24649428           78.985371   \n",
       "\n",
       "   Average Reading Score  % Passing Math  % Passing Reading  \\\n",
       "0               81.87784       74.980853          85.805463   \n",
       "\n",
       "   % Overall Passing Rate  \n",
       "0               80.393158  "
      ]
     },
     "execution_count": 170,
     "metadata": {},
     "output_type": "execute_result"
    }
   ],
   "source": [
    "#***Create District Summary Table \n",
    "district_summary = pd.DataFrame(\n",
    "    {\"Total Schools\": [unique_schools],\n",
    "     \"Total Students\": [num_students],\n",
    "     \"Total Budget\": [total_budget],\n",
    "     \"Average Math Score\": [avg_math],\n",
    "     \"Average Reading Score\": [avg_read],\n",
    "     \"% Passing Math\": [stu_passed_math],\n",
    "     \"% Passing Reading\": [stu_passed_reading],\n",
    "     \"% Overall Passing Rate\": [overall_pass]})\n",
    "\n",
    "column_names = [\"Total Schools\", \"Total Students\",\"Total Budget\", \"Average Math Score\", \n",
    "                \"Average Reading Score\", \"% Passing Math\", \"% Passing Reading\", \"% Overall Passing Rate\"]\n",
    "\n",
    "district_summary = district_summary[column_names]\n",
    "district_summary"
   ]
  },
  {
   "cell_type": "code",
   "execution_count": 218,
   "metadata": {},
   "outputs": [],
   "source": [
    "#Merge schools_df_renamed and students_df_renamed\n",
    "merge_table = pd.merge(schools_df_renamed, students_df_renamed, on=\"School Name\")"
   ]
  },
  {
   "cell_type": "code",
   "execution_count": 219,
   "metadata": {},
   "outputs": [],
   "source": [
    "#Find average reading score for each school\n",
    "avg_reading_score = merge_table.groupby([\"School Name\"])[\"Student Reading Score\"].mean()\n",
    "avg_reading_score = pd.DataFrame(avg_reading_score)\n",
    "avg_reading_score = avg_reading_score.rename(columns ={\"Student Reading Score\": \"Average Student Reading Score\"})\n",
    "avg_reading_score = avg_reading_score.reset_index()\n",
    "\n",
    "#Find Average Math Score by School\n",
    "avg_math_score = merge_table.groupby([\"School Name\"])[\"Student Math Score\"].mean()\n",
    "avg_math_score = pd.DataFrame(avg_math_score)\n",
    "avg_math_score = avg_math_score.rename(columns ={\"Student Math Score\": \"Average Student Math Score\"})\n",
    "avg_math_score = avg_math_score.reset_index().head()\n",
    "\n",
    "\n",
    "#Find percent passing math\n",
    "#Define function name and variable names\n",
    "def passing_grade(df, column, school_name):\n",
    "    #no_passing = the number of items in the the identified merge_table column if they are >= 70 and are part of the unique school name in the for loop\n",
    "    no_passing = len(merge_table[(df[column] >= 70) & (merge_table['School Name'] == school_name)])\n",
    "    #total_students = the number of rows in which that school name appears\n",
    "    total_students = len(merge_table[merge_table['School Name'] == school_name])\n",
    "    #pct_passing = the number of students who passed divided by the total number of students\n",
    "    pct_passing = (no_passing/total_students) * 100\n",
    "    #return a dictionary containing the school name: and the percent passed\n",
    "    return {school_name:pct_passing} \n",
    "\n",
    "#Create new dictionary to hold lists of school names and percent passed per school\n",
    "passed_math_dict = {\"School Name\":[],\"Percent Passed Math\": []}\n",
    "#loop through the unique values in the school name column in merge_table\n",
    "for school_name in merge_table['School Name'].unique():\n",
    "    #Run the passing_grade function on the Student Math Score column of the merge_table\n",
    "    temp_return = passing_grade(merge_table, 'Student Math Score', school_name)\n",
    "    #Loop through temp_return\n",
    "    for key in temp_return:\n",
    "        #append each school name to the school name list in the dictionary\n",
    "        passed_math_dict[\"School Name\"].append(key)\n",
    "        #append each percentage to the \"Percent Math Passed\" list in the dictionary\n",
    "        passed_math_dict[\"Percent Passed Math\"].append(temp_return[key])\n",
    "#Put the columns in order\n",
    "columns_math = [\"School Name\", \"Percent Passed Math\"]\n",
    "#Create dataframe\n",
    "passed_math_school = pd.DataFrame(passed_math_dict)[columns_math]\n",
    "passed_math_school.head()\n",
    "\n",
    "#Find percent passing reading\n",
    "#Define function name and variable names\n",
    "def passing_grade(df, column, school_name):\n",
    "    #no_passing = the number of items in the the identified merge_table column if they are >= 70 and are part of the unique school name in the for loop\n",
    "    no_passing = len(merge_table[(df[column] >= 70) & (merge_table['School Name'] == school_name)])\n",
    "    #total_students = the number of rows in which that school name appears\n",
    "    total_students = len(merge_table[merge_table['School Name'] == school_name])\n",
    "    #pct_passing = the number of students who passed divided by the total number of students\n",
    "    pct_passing = (no_passing/total_students) * 100\n",
    "    #return a dictionary containing the school name: and the percent passed\n",
    "    return {school_name:pct_passing} \n",
    "\n",
    "#Create new dictionary to hold lists of school names and percent passed per school\n",
    "passed_reading_dict = {\"School Name\":[],\"Percent Passed Reading\": []}\n",
    "#loop through the unique values in the school name column in merge_table\n",
    "for school_name in merge_table['School Name'].unique():\n",
    "    #Run the passing_grade function on the Student Reading Score column of the merge_table\n",
    "    temp_return = passing_grade(merge_table, 'Student Reading Score', school_name)\n",
    "    #Loop through temp_return\n",
    "    for key in temp_return:\n",
    "        #append each school name to the school name list in the dictionary\n",
    "        passed_reading_dict[\"School Name\"].append(key)\n",
    "        #append each percentage to the \"Percent Passed Reading\" list in the dictionary\n",
    "        passed_reading_dict[\"Percent Passed Reading\"].append(temp_return[key])\n",
    "#Put the columns in order\n",
    "columns_reading = [\"School Name\", \"Percent Passed Reading\"]\n",
    "#Create dataframe\n",
    "passed_reading_school = pd.DataFrame(passed_reading_dict)[columns_reading]"
   ]
  },
  {
   "cell_type": "code",
   "execution_count": null,
   "metadata": {
    "collapsed": true
   },
   "outputs": [],
   "source": [
    "#***Top 5 Performing Schools: sort School Summary Table by descending \"% Overall Passing Rate\" and show only .head()"
   ]
  },
  {
   "cell_type": "code",
   "execution_count": null,
   "metadata": {
    "collapsed": true
   },
   "outputs": [],
   "source": [
    "#***Bottom 5 Performing Schools: sort School Summary Table by ascending \"% Overall Passing Rate\" and show only .head()"
   ]
  },
  {
   "cell_type": "code",
   "execution_count": 120,
   "metadata": {},
   "outputs": [
    {
     "data": {
      "text/html": [
       "<div>\n",
       "<style>\n",
       "    .dataframe thead tr:only-child th {\n",
       "        text-align: right;\n",
       "    }\n",
       "\n",
       "    .dataframe thead th {\n",
       "        text-align: left;\n",
       "    }\n",
       "\n",
       "    .dataframe tbody tr th {\n",
       "        vertical-align: top;\n",
       "    }\n",
       "</style>\n",
       "<table border=\"1\" class=\"dataframe\">\n",
       "  <thead>\n",
       "    <tr style=\"text-align: right;\">\n",
       "      <th></th>\n",
       "      <th></th>\n",
       "      <th>Average Student Math Score</th>\n",
       "    </tr>\n",
       "    <tr>\n",
       "      <th>School Name</th>\n",
       "      <th>Student Grade</th>\n",
       "      <th></th>\n",
       "    </tr>\n",
       "  </thead>\n",
       "  <tbody>\n",
       "    <tr>\n",
       "      <th rowspan=\"4\" valign=\"top\">Bailey High School</th>\n",
       "      <th>10th</th>\n",
       "      <td>76.996772</td>\n",
       "    </tr>\n",
       "    <tr>\n",
       "      <th>11th</th>\n",
       "      <td>77.515588</td>\n",
       "    </tr>\n",
       "    <tr>\n",
       "      <th>12th</th>\n",
       "      <td>76.492218</td>\n",
       "    </tr>\n",
       "    <tr>\n",
       "      <th>9th</th>\n",
       "      <td>77.083676</td>\n",
       "    </tr>\n",
       "    <tr>\n",
       "      <th>Cabrera High School</th>\n",
       "      <th>10th</th>\n",
       "      <td>83.154506</td>\n",
       "    </tr>\n",
       "  </tbody>\n",
       "</table>\n",
       "</div>"
      ],
      "text/plain": [
       "                                   Average Student Math Score\n",
       "School Name         Student Grade                            \n",
       "Bailey High School  10th                            76.996772\n",
       "                    11th                            77.515588\n",
       "                    12th                            76.492218\n",
       "                    9th                             77.083676\n",
       "Cabrera High School 10th                            83.154506"
      ]
     },
     "execution_count": 120,
     "metadata": {},
     "output_type": "execute_result"
    }
   ],
   "source": [
    "#***Create table that lists the average math score for students of each grade level\n",
    "math_by_grade = merge_table.drop([\"School ID\", \"School Type\", \"School Size\", \"School Budget\", \n",
    "                                  \"Student ID\", \"Student Name\", \"Student Gender\", \"Average Student Reading Score\", \n",
    "                                  \"Mean Student Math Score\", \"Student Reading Score\"], axis=1)\n",
    "math_by_grade = math_by_grade.rename(columns ={\"Student Math Score\": \"Average Student Math Score\"})\n",
    "math_by_grade.groupby([\"School Name\", \"Student Grade\"]).mean().head()"
   ]
  },
  {
   "cell_type": "code",
   "execution_count": 121,
   "metadata": {},
   "outputs": [
    {
     "data": {
      "text/html": [
       "<div>\n",
       "<style>\n",
       "    .dataframe thead tr:only-child th {\n",
       "        text-align: right;\n",
       "    }\n",
       "\n",
       "    .dataframe thead th {\n",
       "        text-align: left;\n",
       "    }\n",
       "\n",
       "    .dataframe tbody tr th {\n",
       "        vertical-align: top;\n",
       "    }\n",
       "</style>\n",
       "<table border=\"1\" class=\"dataframe\">\n",
       "  <thead>\n",
       "    <tr style=\"text-align: right;\">\n",
       "      <th></th>\n",
       "      <th></th>\n",
       "      <th>Average Student Reading Score</th>\n",
       "    </tr>\n",
       "    <tr>\n",
       "      <th>School Name</th>\n",
       "      <th>Student Grade</th>\n",
       "      <th></th>\n",
       "    </tr>\n",
       "  </thead>\n",
       "  <tbody>\n",
       "    <tr>\n",
       "      <th rowspan=\"4\" valign=\"top\">Bailey High School</th>\n",
       "      <th>10th</th>\n",
       "      <td>80.907183</td>\n",
       "    </tr>\n",
       "    <tr>\n",
       "      <th>11th</th>\n",
       "      <td>80.945643</td>\n",
       "    </tr>\n",
       "    <tr>\n",
       "      <th>12th</th>\n",
       "      <td>80.912451</td>\n",
       "    </tr>\n",
       "    <tr>\n",
       "      <th>9th</th>\n",
       "      <td>81.303155</td>\n",
       "    </tr>\n",
       "    <tr>\n",
       "      <th>Cabrera High School</th>\n",
       "      <th>10th</th>\n",
       "      <td>84.253219</td>\n",
       "    </tr>\n",
       "  </tbody>\n",
       "</table>\n",
       "</div>"
      ],
      "text/plain": [
       "                                   Average Student Reading Score\n",
       "School Name         Student Grade                               \n",
       "Bailey High School  10th                               80.907183\n",
       "                    11th                               80.945643\n",
       "                    12th                               80.912451\n",
       "                    9th                                81.303155\n",
       "Cabrera High School 10th                               84.253219"
      ]
     },
     "execution_count": 121,
     "metadata": {},
     "output_type": "execute_result"
    }
   ],
   "source": [
    "#***Create table that lists the average reading score for students of each grade level\n",
    "reading_by_grade = merge_table.drop([\"School ID\", \"School Type\", \"School Size\", \"School Budget\", \n",
    "                                  \"Student ID\", \"Student Name\", \"Student Gender\", \"Average Student Reading Score\", \n",
    "                                  \"Mean Student Math Score\", \"Student Math Score\"], axis=1)\n",
    "reading_by_grade = reading_by_grade.rename(columns ={\"Student Reading Score\": \"Average Student Reading Score\"})\n",
    "reading_by_grade.groupby([\"School Name\", \"Student Grade\"]).mean().head()"
   ]
  },
  {
   "cell_type": "code",
   "execution_count": null,
   "metadata": {
    "collapsed": true
   },
   "outputs": [],
   "source": [
    "#***Create"
   ]
  },
  {
   "cell_type": "code",
   "execution_count": null,
   "metadata": {
    "collapsed": true
   },
   "outputs": [],
   "source": []
  }
 ],
 "metadata": {
  "kernelspec": {
   "display_name": "Python 3",
   "language": "python",
   "name": "python3"
  },
  "language_info": {
   "codemirror_mode": {
    "name": "ipython",
    "version": 3
   },
   "file_extension": ".py",
   "mimetype": "text/x-python",
   "name": "python",
   "nbconvert_exporter": "python",
   "pygments_lexer": "ipython3",
   "version": "3.6.2"
  }
 },
 "nbformat": 4,
 "nbformat_minor": 2
}
